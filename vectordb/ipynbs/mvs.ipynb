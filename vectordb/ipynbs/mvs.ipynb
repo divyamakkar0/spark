{
 "cells": [
  {
   "cell_type": "code",
   "execution_count": 1,
   "metadata": {},
   "outputs": [],
   "source": [
    "from langchain.storage import InMemoryByteStore\n",
    "from langchain_chroma import Chroma\n",
    "from langchain_community.document_loaders import TextLoader\n",
    "from langchain_huggingface import HuggingFaceEmbeddings\n",
    "from langchain_text_splitters import RecursiveCharacterTextSplitter\n",
    "\n",
    "from langchain.retrievers.multi_vector import MultiVectorRetriever"
   ]
  },
  {
   "cell_type": "code",
   "execution_count": 2,
   "metadata": {},
   "outputs": [],
   "source": [
    "import chromadb\n",
    "from langchain_chroma import Chroma\n",
    "from langchain_huggingface import HuggingFaceEmbeddings"
   ]
  },
  {
   "cell_type": "code",
   "execution_count": 3,
   "metadata": {},
   "outputs": [
    {
     "name": "stderr",
     "output_type": "stream",
     "text": [
      "/Users/adityamakkar/Desktop/CS/HTN2024/spark/venv/lib/python3.12/site-packages/sentence_transformers/cross_encoder/CrossEncoder.py:13: TqdmWarning: IProgress not found. Please update jupyter and ipywidgets. See https://ipywidgets.readthedocs.io/en/stable/user_install.html\n",
      "  from tqdm.autonotebook import tqdm, trange\n",
      "/Users/adityamakkar/Desktop/CS/HTN2024/spark/venv/lib/python3.12/site-packages/transformers/tokenization_utils_base.py:1601: FutureWarning: `clean_up_tokenization_spaces` was not set. It will be set to `True` by default. This behavior will be depracted in transformers v4.45, and will be then set to `False` by default. For more details check this issue: https://github.com/huggingface/transformers/issues/31884\n",
      "  warnings.warn(\n"
     ]
    }
   ],
   "source": [
    "model_name = \"sentence-transformers/all-mpnet-base-v2\"\n",
    "model_kwargs = {'device': 'mps'}\n",
    "encode_kwargs = {'normalize_embeddings': False}\n",
    "embeddings = HuggingFaceEmbeddings(\n",
    "    model_name=model_name,\n",
    "    model_kwargs=model_kwargs,\n",
    "    encode_kwargs=encode_kwargs\n",
    ")"
   ]
  },
  {
   "cell_type": "code",
   "execution_count": 6,
   "metadata": {},
   "outputs": [],
   "source": [
    "from langchain_community.document_loaders import JSONLoader\n",
    "import json\n",
    "from pathlib import Path\n",
    "from pprint import pprint\n"
   ]
  },
  {
   "cell_type": "code",
   "execution_count": 9,
   "metadata": {},
   "outputs": [],
   "source": [
    "JSONPATH = \"./data/merged.json\"\n",
    "\n",
    "loader = JSONLoader(\n",
    "    file_path=JSONPATH,\n",
    "    jq_schema='.messages[]',\n",
    "    text_content=False)\n",
    "\n",
    "data = loader.load()\n"
   ]
  },
  {
   "cell_type": "code",
   "execution_count": 10,
   "metadata": {},
   "outputs": [
    {
     "data": {
      "text/plain": [
       "'{\"uuid\": \"d27f66f7-a4a2-4252-da8a-387927f9f0d4\", \"name\": \"Groq\", \"type\": \"organization\", \"imageUrl\": \"https://images.crunchbase.com/image/upload/c_pad,h_25,w_25,f_auto,b_white,q_auto:eco,dpr_1/v1417424257/bgq56bti8dt2ne8omvu7le3jn0kzou7feco18wuo.png\", \"link\": \"https://www.crunchbase.com/organization/groq\", \"website\": {\"value\": \"http://groq.com\"}, \"identifier\": {\"permalink\": \"groq\", \"image_id\": \"le3jn0kzou7feco18wuo\", \"uuid\": \"d27f66f7-a4a2-4252-da8a-387927f9f0d4\", \"entity_def_id\": \"organization\", \"value\": \"Groq\"}, \"founder_identifiers\": [{\"permalink\": \"jonathan-ross-80d0\", \"image_id\": \"r206wbaqjith9xnmzjpj\", \"uuid\": \"ef1a6af0-a180-49e5-82c4-5110ba5280d0\", \"entity_def_id\": \"person\", \"value\": \"Jonathan Ross\"}], \"linkedin\": {\"value\": \"https://www.linkedin.com/company/groq\"}, \"short_description\": \"Groq radically simplifies compute to accelerate workloads in artificial intelligence, machine learning, and high-performance computing.\", \"facebook\": {\"value\": \"https://www.facebook.com/groqinc\"}, \"num_employees_enum\": \"c_00101_00250\", \"location_identifiers\": [{\"permalink\": \"mountain-view-california\", \"uuid\": \"37bfe551-197e-0226-9a80-5d7bec8a50dd\", \"location_type\": \"city\", \"entity_def_id\": \"location\", \"value\": \"Mountain View\"}, {\"permalink\": \"california-united-states\", \"uuid\": \"eb879a83-c91a-121e-0bb8-829782dbcf04\", \"location_type\": \"region\", \"entity_def_id\": \"location\", \"value\": \"California\"}, {\"permalink\": \"united-states\", \"uuid\": \"f110fca2-1055-99f6-996d-011c198b3928\", \"location_type\": \"country\", \"entity_def_id\": \"location\", \"value\": \"United States\"}, {\"permalink\": \"north-america\", \"uuid\": \"b25caef9-a1b8-3a5d-6232-93b2dfb6a1d1\", \"location_type\": \"continent\", \"entity_def_id\": \"location\", \"value\": \"North America\"}], \"last_funding_total\": {\"value_usd\": 640000000, \"currency\": \"USD\", \"value\": 640000000}, \"description\": \"Groq develops AI inference technology for cloud and on-prem solutions at scale. Groq\\'s technology is designed to handle complex computations required for machine learning models, particularly in deep learning and neural networks. Groq focuses on delivering high performance with lower power consumption, making its processors suitable for large-scale AI deployments. The company emphasizes deterministic performance, ensuring predictable outcomes in AI computations.\", \"category_groups\": [{\"entity_def_id\": \"category_group\", \"permalink\": \"artificial-intelligence-e551\", \"uuid\": \"e5514a50-8200-7f6b-de87-b07990670800\", \"value\": \"Artificial Intelligence (AI)\"}, {\"entity_def_id\": \"category_group\", \"permalink\": \"consumer-electronics-52f3\", \"uuid\": \"52f31300-254d-c4c7-bfcf-0246c8212aba\", \"value\": \"Consumer Electronics\"}, {\"entity_def_id\": \"category_group\", \"permalink\": \"data-and-analytics\", \"uuid\": \"701eef4f-18c1-4aff-b550-caf732cd575f\", \"value\": \"Data and Analytics\"}, {\"entity_def_id\": \"category_group\", \"permalink\": \"hardware-2e6e\", \"uuid\": \"2e6eafef-f310-ba60-d932-62f866a87779\", \"value\": \"Hardware\"}, {\"entity_def_id\": \"category_group\", \"permalink\": \"science-and-engineering\", \"uuid\": \"285e29fc-8f70-bf00-1749-9e94158f64f4\", \"value\": \"Science and Engineering\"}, {\"entity_def_id\": \"category_group\", \"permalink\": \"software-85b6\", \"uuid\": \"85b6bca9-930a-11bc-a608-a513b76fb637\", \"value\": \"Software\"}], \"last_funding_type\": \"series_d\", \"categories\": [{\"entity_def_id\": \"category\", \"permalink\": \"artificial-intelligence\", \"uuid\": \"c4d8caf3-5fe7-359b-f9f2-2d708378e4ee\", \"value\": \"Artificial Intelligence (AI)\"}, {\"entity_def_id\": \"category\", \"permalink\": \"electronics\", \"uuid\": \"e173f255-3db1-9d02-74cb-f58a1f45b483\", \"value\": \"Electronics\"}, {\"entity_def_id\": \"category\", \"permalink\": \"machine-learning\", \"uuid\": \"5ea0cdb7-c9a6-47fc-50f8-c9b0fac04863\", \"value\": \"Machine Learning\"}, {\"entity_def_id\": \"category\", \"permalink\": \"semiconductor\", \"uuid\": \"20cd907a-d9d6-2916-8fe3-e2ea07ae915e\", \"value\": \"Semiconductor\"}], \"last_funding_at\": \"2024-08-05\", \"twitter\": {\"value\": \"https://twitter.com/groqinc\"}}'"
      ]
     },
     "execution_count": 10,
     "metadata": {},
     "output_type": "execute_result"
    }
   ],
   "source": [
    "docs = []\n",
    "docs.extend(data)\n",
    "docs[0].page_content"
   ]
  },
  {
   "cell_type": "code",
   "execution_count": null,
   "metadata": {},
   "outputs": [],
   "source": [
    "loaders =[\n",
    "          JSONLoader(),\n",
    "]\n",
    "\n",
    "docs = []\n",
    "for loader in loaders:\n",
    "    docs.extend(loader.load())\n",
    "text_splitter = RecursiveCharacterTextSplitter(chunk_size=10000)\n",
    "docs = text_splitter.split_documents(docs)"
   ]
  }
 ],
 "metadata": {
  "kernelspec": {
   "display_name": "Python 3",
   "language": "python",
   "name": "python3"
  },
  "language_info": {
   "codemirror_mode": {
    "name": "ipython",
    "version": 3
   },
   "file_extension": ".py",
   "mimetype": "text/x-python",
   "name": "python",
   "nbconvert_exporter": "python",
   "pygments_lexer": "ipython3",
   "version": "3.12.4"
  }
 },
 "nbformat": 4,
 "nbformat_minor": 2
}
